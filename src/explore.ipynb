{
    "cells": [
        {
            "cell_type": "markdown",
            "metadata": {},
            "source": [
                "# Descripción del problema\n",
                "\n",
                "Crear un algoritmo de clasificación que ayude a predecir si un cliente del Banco Portugués suscribirá o no un depósito a plazo."
            ]
        },
        {
            "cell_type": "markdown",
            "metadata": {},
            "source": [
                "### Primero se instalan e importan las librerías\n",
                "ejecutar en consola: `pip install -r requirements.txt`"
            ]
        },
        {
            "cell_type": "code",
            "execution_count": 71,
            "metadata": {},
            "outputs": [],
            "source": [
                "import pandas as pd\n",
                "import numpy as np\n",
                "import matplotlib.pyplot as plt\n",
                "import plotly.express as px\n",
                "import seaborn as sns"
            ]
        },
        {
            "cell_type": "markdown",
            "metadata": {},
            "source": [
                "### Step 1: cargar archivo"
            ]
        },
        {
            "cell_type": "code",
            "execution_count": 21,
            "metadata": {},
            "outputs": [],
            "source": [
                "# se carga archivo de la web\n",
                "df_raw = pd.read_csv('https://raw.githubusercontent.com/4GeeksAcademy/logistic-regression-project-tutorial/main/bank-marketing-campaign-data.csv', delimiter=';')"
            ]
        },
        {
            "cell_type": "code",
            "execution_count": 7,
            "metadata": {},
            "outputs": [],
            "source": [
                "# se guarda en la carpeta data/raw\n",
                "df_raw.to_csv('../data/raw/dataset_bank.csv')"
            ]
        },
        {
            "cell_type": "markdown",
            "metadata": {},
            "source": [
                "### Diccionario de variables\n",
                "\n",
                "* Age (numerical)\n",
                "* Job: Type of Job (categorical)\n",
                "* Marital: marital status (categorical)\n",
                "* Education: (categorical)\n",
                "* Default: has credit in default? (categorical)\n",
                "* Housing: has housing loan? (categorical)\n",
                "* Loan: has personal loan? (categorical)\n",
                "* contact: contact communication type (categorcial)\n",
                "* month: last contact month of year (categorical)\n",
                "* day_of_week: last contact day of the week (categorical)\n",
                "* duration: last contact duration, in seconds (numerical)\n",
                "* **Important note:** this output highly affects the output target (if duration = 0, then y = 'no'). Yet, the duration is not known before a call is performed. Also, after the end of the call, y is obviously known. Consider if you should include it or not for a realistic predictive model.\n",
                "* campaign: number of contacts performed during this campaign and for this client (numerical)\n",
                "* pdays: number of days that passed by after the client was last contacted from a previous campaign (numeric; 999 means client was not previously contacted)\n",
                "* previous: number of contacts performed before this campaign and for this client (numerical)\n",
                "* poutcome: outcome of the previous marketing campaign (categorical)\n",
                "* **Important note:** this attribute has three categories: 'failure', 'success' and 'non-existent'. 86% of the data falls into 'non-existent' category.\n",
                "* emp.var.rate: employment variation rate - quarterly indicator (numeric)\n",
                "* cons.price.idx: consumer price index- monthly indicator (numeric)\n",
                "* cons.conf.idx: consumer confidence index - monthly indicator (numeric)\n",
                "* euribor3m: euribor 3 month rate: - daily indicator(numeric)\n",
                "* nr.employed: number of employees - quarterly indicator (numeric)\n",
                "* **Target variable:**\n",
                "* y: has the client subscribed a term deposit?"
            ]
        },
        {
            "cell_type": "markdown",
            "metadata": {},
            "source": [
                "### Step 2 y 3: Breve EDA del dataset"
            ]
        },
        {
            "cell_type": "code",
            "execution_count": 61,
            "metadata": {},
            "outputs": [],
            "source": [
                "# se carga desde la carpeta\n",
                "df_bank = pd.read_csv('../data/raw/dataset_bank.csv', index_col = 0)"
            ]
        },
        {
            "cell_type": "code",
            "execution_count": 24,
            "metadata": {},
            "outputs": [
                {
                    "data": {
                        "text/plain": [
                            "(41188, 21)"
                        ]
                    },
                    "execution_count": 24,
                    "metadata": {},
                    "output_type": "execute_result"
                }
            ],
            "source": [
                "# chequeo dimensiones\n",
                "df_bank.shape"
            ]
        },
        {
            "cell_type": "markdown",
            "metadata": {},
            "source": [
                "El data frame contiene 41188 registros (filas) y 21 variables (columnas)"
            ]
        },
        {
            "cell_type": "code",
            "execution_count": 25,
            "metadata": {},
            "outputs": [
                {
                    "data": {
                        "text/html": [
                            "<div>\n",
                            "<style scoped>\n",
                            "    .dataframe tbody tr th:only-of-type {\n",
                            "        vertical-align: middle;\n",
                            "    }\n",
                            "\n",
                            "    .dataframe tbody tr th {\n",
                            "        vertical-align: top;\n",
                            "    }\n",
                            "\n",
                            "    .dataframe thead th {\n",
                            "        text-align: right;\n",
                            "    }\n",
                            "</style>\n",
                            "<table border=\"1\" class=\"dataframe\">\n",
                            "  <thead>\n",
                            "    <tr style=\"text-align: right;\">\n",
                            "      <th></th>\n",
                            "      <th>age</th>\n",
                            "      <th>job</th>\n",
                            "      <th>marital</th>\n",
                            "      <th>education</th>\n",
                            "      <th>default</th>\n",
                            "      <th>housing</th>\n",
                            "      <th>loan</th>\n",
                            "      <th>contact</th>\n",
                            "      <th>month</th>\n",
                            "      <th>day_of_week</th>\n",
                            "      <th>...</th>\n",
                            "      <th>campaign</th>\n",
                            "      <th>pdays</th>\n",
                            "      <th>previous</th>\n",
                            "      <th>poutcome</th>\n",
                            "      <th>emp.var.rate</th>\n",
                            "      <th>cons.price.idx</th>\n",
                            "      <th>cons.conf.idx</th>\n",
                            "      <th>euribor3m</th>\n",
                            "      <th>nr.employed</th>\n",
                            "      <th>y</th>\n",
                            "    </tr>\n",
                            "  </thead>\n",
                            "  <tbody>\n",
                            "    <tr>\n",
                            "      <th>26397</th>\n",
                            "      <td>33</td>\n",
                            "      <td>self-employed</td>\n",
                            "      <td>divorced</td>\n",
                            "      <td>university.degree</td>\n",
                            "      <td>no</td>\n",
                            "      <td>no</td>\n",
                            "      <td>no</td>\n",
                            "      <td>telephone</td>\n",
                            "      <td>nov</td>\n",
                            "      <td>thu</td>\n",
                            "      <td>...</td>\n",
                            "      <td>3</td>\n",
                            "      <td>999</td>\n",
                            "      <td>0</td>\n",
                            "      <td>nonexistent</td>\n",
                            "      <td>-0.1</td>\n",
                            "      <td>93.200</td>\n",
                            "      <td>-42.0</td>\n",
                            "      <td>4.076</td>\n",
                            "      <td>5195.8</td>\n",
                            "      <td>no</td>\n",
                            "    </tr>\n",
                            "    <tr>\n",
                            "      <th>7371</th>\n",
                            "      <td>38</td>\n",
                            "      <td>blue-collar</td>\n",
                            "      <td>married</td>\n",
                            "      <td>basic.9y</td>\n",
                            "      <td>no</td>\n",
                            "      <td>yes</td>\n",
                            "      <td>yes</td>\n",
                            "      <td>telephone</td>\n",
                            "      <td>may</td>\n",
                            "      <td>fri</td>\n",
                            "      <td>...</td>\n",
                            "      <td>1</td>\n",
                            "      <td>999</td>\n",
                            "      <td>0</td>\n",
                            "      <td>nonexistent</td>\n",
                            "      <td>1.1</td>\n",
                            "      <td>93.994</td>\n",
                            "      <td>-36.4</td>\n",
                            "      <td>4.864</td>\n",
                            "      <td>5191.0</td>\n",
                            "      <td>no</td>\n",
                            "    </tr>\n",
                            "    <tr>\n",
                            "      <th>26830</th>\n",
                            "      <td>36</td>\n",
                            "      <td>technician</td>\n",
                            "      <td>single</td>\n",
                            "      <td>professional.course</td>\n",
                            "      <td>no</td>\n",
                            "      <td>yes</td>\n",
                            "      <td>no</td>\n",
                            "      <td>cellular</td>\n",
                            "      <td>nov</td>\n",
                            "      <td>thu</td>\n",
                            "      <td>...</td>\n",
                            "      <td>3</td>\n",
                            "      <td>999</td>\n",
                            "      <td>0</td>\n",
                            "      <td>nonexistent</td>\n",
                            "      <td>-0.1</td>\n",
                            "      <td>93.200</td>\n",
                            "      <td>-42.0</td>\n",
                            "      <td>4.076</td>\n",
                            "      <td>5195.8</td>\n",
                            "      <td>no</td>\n",
                            "    </tr>\n",
                            "    <tr>\n",
                            "      <th>909</th>\n",
                            "      <td>38</td>\n",
                            "      <td>blue-collar</td>\n",
                            "      <td>married</td>\n",
                            "      <td>unknown</td>\n",
                            "      <td>unknown</td>\n",
                            "      <td>no</td>\n",
                            "      <td>yes</td>\n",
                            "      <td>telephone</td>\n",
                            "      <td>may</td>\n",
                            "      <td>wed</td>\n",
                            "      <td>...</td>\n",
                            "      <td>1</td>\n",
                            "      <td>999</td>\n",
                            "      <td>0</td>\n",
                            "      <td>nonexistent</td>\n",
                            "      <td>1.1</td>\n",
                            "      <td>93.994</td>\n",
                            "      <td>-36.4</td>\n",
                            "      <td>4.856</td>\n",
                            "      <td>5191.0</td>\n",
                            "      <td>no</td>\n",
                            "    </tr>\n",
                            "    <tr>\n",
                            "      <th>9918</th>\n",
                            "      <td>41</td>\n",
                            "      <td>self-employed</td>\n",
                            "      <td>married</td>\n",
                            "      <td>high.school</td>\n",
                            "      <td>no</td>\n",
                            "      <td>unknown</td>\n",
                            "      <td>unknown</td>\n",
                            "      <td>telephone</td>\n",
                            "      <td>jun</td>\n",
                            "      <td>wed</td>\n",
                            "      <td>...</td>\n",
                            "      <td>1</td>\n",
                            "      <td>999</td>\n",
                            "      <td>0</td>\n",
                            "      <td>nonexistent</td>\n",
                            "      <td>1.4</td>\n",
                            "      <td>94.465</td>\n",
                            "      <td>-41.8</td>\n",
                            "      <td>4.959</td>\n",
                            "      <td>5228.1</td>\n",
                            "      <td>no</td>\n",
                            "    </tr>\n",
                            "  </tbody>\n",
                            "</table>\n",
                            "<p>5 rows × 21 columns</p>\n",
                            "</div>"
                        ],
                        "text/plain": [
                            "       age            job   marital            education  default  housing  \\\n",
                            "26397   33  self-employed  divorced    university.degree       no       no   \n",
                            "7371    38    blue-collar   married             basic.9y       no      yes   \n",
                            "26830   36     technician    single  professional.course       no      yes   \n",
                            "909     38    blue-collar   married              unknown  unknown       no   \n",
                            "9918    41  self-employed   married          high.school       no  unknown   \n",
                            "\n",
                            "          loan    contact month day_of_week  ...  campaign  pdays  previous  \\\n",
                            "26397       no  telephone   nov         thu  ...         3    999         0   \n",
                            "7371       yes  telephone   may         fri  ...         1    999         0   \n",
                            "26830       no   cellular   nov         thu  ...         3    999         0   \n",
                            "909        yes  telephone   may         wed  ...         1    999         0   \n",
                            "9918   unknown  telephone   jun         wed  ...         1    999         0   \n",
                            "\n",
                            "          poutcome emp.var.rate  cons.price.idx  cons.conf.idx  euribor3m  \\\n",
                            "26397  nonexistent         -0.1          93.200          -42.0      4.076   \n",
                            "7371   nonexistent          1.1          93.994          -36.4      4.864   \n",
                            "26830  nonexistent         -0.1          93.200          -42.0      4.076   \n",
                            "909    nonexistent          1.1          93.994          -36.4      4.856   \n",
                            "9918   nonexistent          1.4          94.465          -41.8      4.959   \n",
                            "\n",
                            "       nr.employed   y  \n",
                            "26397       5195.8  no  \n",
                            "7371        5191.0  no  \n",
                            "26830       5195.8  no  \n",
                            "909         5191.0  no  \n",
                            "9918        5228.1  no  \n",
                            "\n",
                            "[5 rows x 21 columns]"
                        ]
                    },
                    "execution_count": 25,
                    "metadata": {},
                    "output_type": "execute_result"
                }
            ],
            "source": [
                "# miro 5 observaciones al azar\n",
                "df_bank.sample(5)"
            ]
        },
        {
            "cell_type": "code",
            "execution_count": 26,
            "metadata": {},
            "outputs": [
                {
                    "name": "stdout",
                    "output_type": "stream",
                    "text": [
                        "<class 'pandas.core.frame.DataFrame'>\n",
                        "Int64Index: 41188 entries, 0 to 41187\n",
                        "Data columns (total 21 columns):\n",
                        " #   Column          Non-Null Count  Dtype  \n",
                        "---  ------          --------------  -----  \n",
                        " 0   age             41188 non-null  int64  \n",
                        " 1   job             41188 non-null  object \n",
                        " 2   marital         41188 non-null  object \n",
                        " 3   education       41188 non-null  object \n",
                        " 4   default         41188 non-null  object \n",
                        " 5   housing         41188 non-null  object \n",
                        " 6   loan            41188 non-null  object \n",
                        " 7   contact         41188 non-null  object \n",
                        " 8   month           41188 non-null  object \n",
                        " 9   day_of_week     41188 non-null  object \n",
                        " 10  duration        41188 non-null  int64  \n",
                        " 11  campaign        41188 non-null  int64  \n",
                        " 12  pdays           41188 non-null  int64  \n",
                        " 13  previous        41188 non-null  int64  \n",
                        " 14  poutcome        41188 non-null  object \n",
                        " 15  emp.var.rate    41188 non-null  float64\n",
                        " 16  cons.price.idx  41188 non-null  float64\n",
                        " 17  cons.conf.idx   41188 non-null  float64\n",
                        " 18  euribor3m       41188 non-null  float64\n",
                        " 19  nr.employed     41188 non-null  float64\n",
                        " 20  y               41188 non-null  object \n",
                        "dtypes: float64(5), int64(5), object(11)\n",
                        "memory usage: 6.9+ MB\n"
                    ]
                }
            ],
            "source": [
                "# info básica\n",
                "df_bank.info()"
            ]
        },
        {
            "cell_type": "markdown",
            "metadata": {},
            "source": [
                "**Apreciaciones:**\n",
                "\n",
                "* no hay valores nulos en ninguna de las variables\n",
                "* hay que convertir las variables de tipo object a categorical"
            ]
        },
        {
            "cell_type": "markdown",
            "metadata": {},
            "source": [
                "#### Visualización de las categorías de cada variable categórica y cómo se distribuyen, recodificación para sustituir categorías \"unknown\""
            ]
        },
        {
            "cell_type": "markdown",
            "metadata": {},
            "source": [
                "Tipo de trabajo"
            ]
        },
        {
            "cell_type": "code",
            "execution_count": 62,
            "metadata": {},
            "outputs": [
                {
                    "name": "stdout",
                    "output_type": "stream",
                    "text": [
                        "admin.           10422\n",
                        "blue-collar       9254\n",
                        "technician        6743\n",
                        "services          3969\n",
                        "management        2924\n",
                        "retired           1720\n",
                        "entrepreneur      1456\n",
                        "self-employed     1421\n",
                        "housemaid         1060\n",
                        "unemployed        1014\n",
                        "student            875\n",
                        "unknown            330\n",
                        "Name: job, dtype: int64\n",
                        "Cantidad de categorías: 12\n",
                        "admin.           10752\n",
                        "blue-collar       9254\n",
                        "technician        6743\n",
                        "services          3969\n",
                        "management        2924\n",
                        "retired           1720\n",
                        "entrepreneur      1456\n",
                        "self-employed     1421\n",
                        "housemaid         1060\n",
                        "unemployed        1014\n",
                        "student            875\n",
                        "Name: job, dtype: int64\n"
                    ]
                }
            ],
            "source": [
                "# Tipo de trabajo\n",
                "print(df_bank['job'].value_counts())\n",
                "print(f'Cantidad de categorías: {df_bank[\"job\"].nunique()}')\n",
                "\n",
                "# sustituyo categoría \"unknown\" por la más frecuente\n",
                "mask = df_bank['job'] == 'unknown'\n",
                "df_bank.loc[mask, 'job'] = 'admin.'\n",
                "print(df_bank['job'].value_counts())"
            ]
        },
        {
            "cell_type": "markdown",
            "metadata": {},
            "source": [
                "Estado civil"
            ]
        },
        {
            "cell_type": "code",
            "execution_count": 40,
            "metadata": {},
            "outputs": [
                {
                    "name": "stdout",
                    "output_type": "stream",
                    "text": [
                        "married     24928\n",
                        "single      11568\n",
                        "divorced     4612\n",
                        "unknown        80\n",
                        "Name: marital, dtype: int64\n",
                        "Cantidad de categorías: 4\n",
                        "married     25008\n",
                        "single      11568\n",
                        "divorced     4612\n",
                        "unknown         0\n",
                        "Name: marital, dtype: int64\n"
                    ]
                }
            ],
            "source": [
                "# Estado civil\n",
                "print(df_bank['marital'].value_counts())\n",
                "print(f'Cantidad de categorías: {df_bank[\"marital\"].nunique()}')\n",
                "\n",
                "# sustituyo categoría \"unknown\" por la más frecuente\n",
                "mask = df_bank['marital'] == 'unknown'\n",
                "df_bank.loc[mask, 'marital'] = 'married'\n",
                "print(df_bank['marital'].value_counts())"
            ]
        },
        {
            "cell_type": "markdown",
            "metadata": {},
            "source": [
                "Nivel educativo"
            ]
        },
        {
            "cell_type": "code",
            "execution_count": 41,
            "metadata": {},
            "outputs": [
                {
                    "name": "stdout",
                    "output_type": "stream",
                    "text": [
                        "university.degree      12168\n",
                        "high.school             9515\n",
                        "basic.9y                6045\n",
                        "professional.course     5243\n",
                        "basic.4y                4176\n",
                        "basic.6y                2292\n",
                        "unknown                 1731\n",
                        "illiterate                18\n",
                        "Name: education, dtype: int64\n",
                        "Cantidad de categorías: 8\n",
                        "university.degree      13899\n",
                        "high.school             9515\n",
                        "basic.9y                6045\n",
                        "professional.course     5243\n",
                        "basic.4y                4176\n",
                        "basic.6y                2292\n",
                        "illiterate                18\n",
                        "unknown                    0\n",
                        "Name: education, dtype: int64\n"
                    ]
                }
            ],
            "source": [
                "# Nivel educativo\n",
                "print(df_bank['education'].value_counts())\n",
                "print(f'Cantidad de categorías: {df_bank[\"education\"].nunique()}')\n",
                "\n",
                "# sustituyo categoría \"unknown\" por la más frecuente\n",
                "mask = df_bank['education'] == 'unknown'\n",
                "df_bank.loc[mask, 'education'] = 'university.degree'\n",
                "print(df_bank['education'].value_counts())"
            ]
        },
        {
            "cell_type": "markdown",
            "metadata": {},
            "source": [
                "Créditos en default?"
            ]
        },
        {
            "cell_type": "code",
            "execution_count": 43,
            "metadata": {},
            "outputs": [
                {
                    "name": "stdout",
                    "output_type": "stream",
                    "text": [
                        "no         32588\n",
                        "unknown     8597\n",
                        "yes            3\n",
                        "Name: default, dtype: int64\n",
                        "Cantidad de categorías: 3\n",
                        "no         41185\n",
                        "yes            3\n",
                        "unknown        0\n",
                        "Name: default, dtype: int64\n"
                    ]
                }
            ],
            "source": [
                "# Tiene créditos en default?\n",
                "print(df_bank['default'].value_counts())\n",
                "print(f'Cantidad de categorías: {df_bank[\"default\"].nunique()}')\n",
                "\n",
                "# sustituyo categoría \"unknown\" por la más frecuente\n",
                "mask = df_bank['default'] == 'unknown'\n",
                "df_bank.loc[mask, 'default'] = 'no'\n",
                "print(df_bank['default'].value_counts())"
            ]
        },
        {
            "cell_type": "markdown",
            "metadata": {},
            "source": [
                "Préstamo de vivienda?"
            ]
        },
        {
            "cell_type": "code",
            "execution_count": 45,
            "metadata": {},
            "outputs": [
                {
                    "name": "stdout",
                    "output_type": "stream",
                    "text": [
                        "yes        21576\n",
                        "no         18622\n",
                        "unknown      990\n",
                        "Name: housing, dtype: int64\n",
                        "Cantidad de categorías: 3\n",
                        "yes        22566\n",
                        "no         18622\n",
                        "unknown        0\n",
                        "Name: housing, dtype: int64\n"
                    ]
                }
            ],
            "source": [
                "# Tiene préstamo de vivienda?\n",
                "print(df_bank['housing'].value_counts())\n",
                "print(f'Cantidad de categorías: {df_bank[\"housing\"].nunique()}')\n",
                "\n",
                "# sustituyo categoría \"unknown\" por la más frecuente\n",
                "mask = df_bank['housing'] == 'unknown'\n",
                "df_bank.loc[mask, 'housing'] = 'yes'\n",
                "print(df_bank['housing'].value_counts())\n"
            ]
        },
        {
            "cell_type": "markdown",
            "metadata": {},
            "source": [
                "Algún préstamo?"
            ]
        },
        {
            "cell_type": "code",
            "execution_count": 46,
            "metadata": {},
            "outputs": [
                {
                    "name": "stdout",
                    "output_type": "stream",
                    "text": [
                        "no         33950\n",
                        "yes         6248\n",
                        "unknown      990\n",
                        "Name: loan, dtype: int64\n",
                        "Cantidad de categorías: 3\n",
                        "no         34940\n",
                        "yes         6248\n",
                        "unknown        0\n",
                        "Name: loan, dtype: int64\n"
                    ]
                }
            ],
            "source": [
                "# Tiene algún préstamo?\n",
                "print(df_bank['loan'].value_counts())\n",
                "print(f'Cantidad de categorías: {df_bank[\"loan\"].nunique()}')\n",
                "\n",
                "# sustituyo categoría \"unknown\" por la más frecuente\n",
                "mask = df_bank['loan'] == 'unknown'\n",
                "df_bank.loc[mask, 'loan'] = 'no'\n",
                "print(df_bank['loan'].value_counts())\n"
            ]
        },
        {
            "cell_type": "markdown",
            "metadata": {},
            "source": [
                "Tipo de contacto"
            ]
        },
        {
            "cell_type": "code",
            "execution_count": 47,
            "metadata": {},
            "outputs": [
                {
                    "name": "stdout",
                    "output_type": "stream",
                    "text": [
                        "cellular     26144\n",
                        "telephone    15044\n",
                        "Name: contact, dtype: int64\n",
                        "Cantidad de categorías: 2\n"
                    ]
                }
            ],
            "source": [
                "# Tipo de contacto\n",
                "print(df_bank['contact'].value_counts())\n",
                "print(f'Cantidad de categorías: {df_bank[\"contact\"].nunique()}')\n",
                "\n",
                "# esta variable no tiene categoría \"unknown\" "
            ]
        },
        {
            "cell_type": "markdown",
            "metadata": {},
            "source": [
                "Mes del último contacto"
            ]
        },
        {
            "cell_type": "code",
            "execution_count": 48,
            "metadata": {},
            "outputs": [
                {
                    "name": "stdout",
                    "output_type": "stream",
                    "text": [
                        "may    13769\n",
                        "jul     7174\n",
                        "aug     6178\n",
                        "jun     5318\n",
                        "nov     4101\n",
                        "apr     2632\n",
                        "oct      718\n",
                        "sep      570\n",
                        "mar      546\n",
                        "dec      182\n",
                        "Name: month, dtype: int64\n",
                        "Cantidad de categorías: 10\n"
                    ]
                }
            ],
            "source": [
                "# Mes del último contacto\n",
                "print(df_bank['month'].value_counts())\n",
                "print(f'Cantidad de categorías: {df_bank[\"month\"].nunique()}')\n",
                "\n",
                "# esta variable no tiene categoría \"unknown\" "
            ]
        },
        {
            "cell_type": "markdown",
            "metadata": {},
            "source": [
                "Día de la semana del último contacto"
            ]
        },
        {
            "cell_type": "code",
            "execution_count": 49,
            "metadata": {},
            "outputs": [
                {
                    "name": "stdout",
                    "output_type": "stream",
                    "text": [
                        "thu    8623\n",
                        "mon    8514\n",
                        "wed    8134\n",
                        "tue    8090\n",
                        "fri    7827\n",
                        "Name: day_of_week, dtype: int64\n",
                        "Cantidad de categorías: 5\n"
                    ]
                }
            ],
            "source": [
                "# Día de la semana del último contacto\n",
                "print(df_bank['day_of_week'].value_counts())\n",
                "print(f'Cantidad de categorías: {df_bank[\"day_of_week\"].nunique()}')\n",
                "\n",
                "# esta variable no tiene categoría \"unknown\" "
            ]
        },
        {
            "cell_type": "markdown",
            "metadata": {},
            "source": [
                "Resultado de la campaña anterior"
            ]
        },
        {
            "cell_type": "code",
            "execution_count": 50,
            "metadata": {},
            "outputs": [
                {
                    "name": "stdout",
                    "output_type": "stream",
                    "text": [
                        "nonexistent    35563\n",
                        "failure         4252\n",
                        "success         1373\n",
                        "Name: poutcome, dtype: int64\n",
                        "Cantidad de categorías: 3\n"
                    ]
                }
            ],
            "source": [
                "# Resultado de la campaña anterior\n",
                "print(df_bank['poutcome'].value_counts())\n",
                "print(f'Cantidad de categorías: {df_bank[\"poutcome\"].nunique()}')\n",
                "\n",
                "# esta variable no tiene categoría \"unknown\" "
            ]
        },
        {
            "cell_type": "markdown",
            "metadata": {},
            "source": [
                "Se convierten a categorical"
            ]
        },
        {
            "cell_type": "code",
            "execution_count": 63,
            "metadata": {},
            "outputs": [
                {
                    "name": "stdout",
                    "output_type": "stream",
                    "text": [
                        "<class 'pandas.core.frame.DataFrame'>\n",
                        "Int64Index: 41188 entries, 0 to 41187\n",
                        "Data columns (total 21 columns):\n",
                        " #   Column          Non-Null Count  Dtype   \n",
                        "---  ------          --------------  -----   \n",
                        " 0   age             41188 non-null  int64   \n",
                        " 1   job             41188 non-null  category\n",
                        " 2   marital         41188 non-null  category\n",
                        " 3   education       41188 non-null  category\n",
                        " 4   default         41188 non-null  category\n",
                        " 5   housing         41188 non-null  category\n",
                        " 6   loan            41188 non-null  category\n",
                        " 7   contact         41188 non-null  category\n",
                        " 8   month           41188 non-null  category\n",
                        " 9   day_of_week     41188 non-null  category\n",
                        " 10  duration        41188 non-null  int64   \n",
                        " 11  campaign        41188 non-null  int64   \n",
                        " 12  pdays           41188 non-null  int64   \n",
                        " 13  previous        41188 non-null  int64   \n",
                        " 14  poutcome        41188 non-null  category\n",
                        " 15  emp.var.rate    41188 non-null  float64 \n",
                        " 16  cons.price.idx  41188 non-null  float64 \n",
                        " 17  cons.conf.idx   41188 non-null  float64 \n",
                        " 18  euribor3m       41188 non-null  float64 \n",
                        " 19  nr.employed     41188 non-null  float64 \n",
                        " 20  y               41188 non-null  category\n",
                        "dtypes: category(11), float64(5), int64(5)\n",
                        "memory usage: 3.9 MB\n"
                    ]
                }
            ],
            "source": [
                "# convierto a categóricas\n",
                "cols = df_bank.select_dtypes(include = ['object']).columns\n",
                "for i in cols:\n",
                "    df_bank[i] = pd.Categorical(df_bank[i])\n",
                "df_bank.info()"
            ]
        },
        {
            "cell_type": "markdown",
            "metadata": {},
            "source": [
                "Ahora se analiza la variable target"
            ]
        },
        {
            "cell_type": "code",
            "execution_count": 64,
            "metadata": {},
            "outputs": [
                {
                    "name": "stdout",
                    "output_type": "stream",
                    "text": [
                        "no     36548\n",
                        "yes     4640\n",
                        "Name: y, dtype: int64\n",
                        "Cantidad de categorías: 2\n"
                    ]
                }
            ],
            "source": [
                "# variable respuesta, dependiente o target: cliente suscribió un plazo fijo?\n",
                "print(df_bank['y'].value_counts())\n",
                "print(f'Cantidad de categorías: {df_bank[\"y\"].nunique()}')"
            ]
        },
        {
            "cell_type": "code",
            "execution_count": 65,
            "metadata": {},
            "outputs": [
                {
                    "name": "stdout",
                    "output_type": "stream",
                    "text": [
                        "yes = 11%\n",
                        "no = 89%\n"
                    ]
                }
            ],
            "source": [
                "print(f'yes = {round(100*sum(df_bank[\"y\"] == \"yes\")/len(df_bank))}%')\n",
                "print(f'no = {round(100*sum(df_bank[\"y\"] == \"no\")/len(df_bank))}%')"
            ]
        },
        {
            "cell_type": "markdown",
            "metadata": {},
            "source": [
                "La distribución de la variable target está desbalanceada!!"
            ]
        },
        {
            "cell_type": "markdown",
            "metadata": {},
            "source": [
                "Resumen de las variables categóricas:"
            ]
        },
        {
            "cell_type": "code",
            "execution_count": 76,
            "metadata": {},
            "outputs": [
                {
                    "data": {
                        "text/html": [
                            "<div>\n",
                            "<style scoped>\n",
                            "    .dataframe tbody tr th:only-of-type {\n",
                            "        vertical-align: middle;\n",
                            "    }\n",
                            "\n",
                            "    .dataframe tbody tr th {\n",
                            "        vertical-align: top;\n",
                            "    }\n",
                            "\n",
                            "    .dataframe thead th {\n",
                            "        text-align: right;\n",
                            "    }\n",
                            "</style>\n",
                            "<table border=\"1\" class=\"dataframe\">\n",
                            "  <thead>\n",
                            "    <tr style=\"text-align: right;\">\n",
                            "      <th></th>\n",
                            "      <th>age</th>\n",
                            "      <th>duration</th>\n",
                            "      <th>campaign</th>\n",
                            "      <th>pdays</th>\n",
                            "      <th>previous</th>\n",
                            "      <th>emp.var.rate</th>\n",
                            "      <th>cons.price.idx</th>\n",
                            "      <th>cons.conf.idx</th>\n",
                            "      <th>euribor3m</th>\n",
                            "      <th>nr.employed</th>\n",
                            "    </tr>\n",
                            "  </thead>\n",
                            "  <tbody>\n",
                            "    <tr>\n",
                            "      <th>count</th>\n",
                            "      <td>41188.00000</td>\n",
                            "      <td>41188.000000</td>\n",
                            "      <td>41188.000000</td>\n",
                            "      <td>41188.000000</td>\n",
                            "      <td>41188.000000</td>\n",
                            "      <td>41188.000000</td>\n",
                            "      <td>41188.000000</td>\n",
                            "      <td>41188.000000</td>\n",
                            "      <td>41188.000000</td>\n",
                            "      <td>41188.000000</td>\n",
                            "    </tr>\n",
                            "    <tr>\n",
                            "      <th>mean</th>\n",
                            "      <td>40.02406</td>\n",
                            "      <td>258.285010</td>\n",
                            "      <td>2.567593</td>\n",
                            "      <td>962.475454</td>\n",
                            "      <td>0.172963</td>\n",
                            "      <td>0.081886</td>\n",
                            "      <td>93.575664</td>\n",
                            "      <td>-40.502600</td>\n",
                            "      <td>3.621291</td>\n",
                            "      <td>5167.035911</td>\n",
                            "    </tr>\n",
                            "    <tr>\n",
                            "      <th>std</th>\n",
                            "      <td>10.42125</td>\n",
                            "      <td>259.279249</td>\n",
                            "      <td>2.770014</td>\n",
                            "      <td>186.910907</td>\n",
                            "      <td>0.494901</td>\n",
                            "      <td>1.570960</td>\n",
                            "      <td>0.578840</td>\n",
                            "      <td>4.628198</td>\n",
                            "      <td>1.734447</td>\n",
                            "      <td>72.251528</td>\n",
                            "    </tr>\n",
                            "    <tr>\n",
                            "      <th>min</th>\n",
                            "      <td>17.00000</td>\n",
                            "      <td>0.000000</td>\n",
                            "      <td>1.000000</td>\n",
                            "      <td>0.000000</td>\n",
                            "      <td>0.000000</td>\n",
                            "      <td>-3.400000</td>\n",
                            "      <td>92.201000</td>\n",
                            "      <td>-50.800000</td>\n",
                            "      <td>0.634000</td>\n",
                            "      <td>4963.600000</td>\n",
                            "    </tr>\n",
                            "    <tr>\n",
                            "      <th>25%</th>\n",
                            "      <td>32.00000</td>\n",
                            "      <td>102.000000</td>\n",
                            "      <td>1.000000</td>\n",
                            "      <td>999.000000</td>\n",
                            "      <td>0.000000</td>\n",
                            "      <td>-1.800000</td>\n",
                            "      <td>93.075000</td>\n",
                            "      <td>-42.700000</td>\n",
                            "      <td>1.344000</td>\n",
                            "      <td>5099.100000</td>\n",
                            "    </tr>\n",
                            "    <tr>\n",
                            "      <th>50%</th>\n",
                            "      <td>38.00000</td>\n",
                            "      <td>180.000000</td>\n",
                            "      <td>2.000000</td>\n",
                            "      <td>999.000000</td>\n",
                            "      <td>0.000000</td>\n",
                            "      <td>1.100000</td>\n",
                            "      <td>93.749000</td>\n",
                            "      <td>-41.800000</td>\n",
                            "      <td>4.857000</td>\n",
                            "      <td>5191.000000</td>\n",
                            "    </tr>\n",
                            "    <tr>\n",
                            "      <th>75%</th>\n",
                            "      <td>47.00000</td>\n",
                            "      <td>319.000000</td>\n",
                            "      <td>3.000000</td>\n",
                            "      <td>999.000000</td>\n",
                            "      <td>0.000000</td>\n",
                            "      <td>1.400000</td>\n",
                            "      <td>93.994000</td>\n",
                            "      <td>-36.400000</td>\n",
                            "      <td>4.961000</td>\n",
                            "      <td>5228.100000</td>\n",
                            "    </tr>\n",
                            "    <tr>\n",
                            "      <th>max</th>\n",
                            "      <td>98.00000</td>\n",
                            "      <td>4918.000000</td>\n",
                            "      <td>56.000000</td>\n",
                            "      <td>999.000000</td>\n",
                            "      <td>7.000000</td>\n",
                            "      <td>1.400000</td>\n",
                            "      <td>94.767000</td>\n",
                            "      <td>-26.900000</td>\n",
                            "      <td>5.045000</td>\n",
                            "      <td>5228.100000</td>\n",
                            "    </tr>\n",
                            "  </tbody>\n",
                            "</table>\n",
                            "</div>"
                        ],
                        "text/plain": [
                            "               age      duration      campaign         pdays      previous  \\\n",
                            "count  41188.00000  41188.000000  41188.000000  41188.000000  41188.000000   \n",
                            "mean      40.02406    258.285010      2.567593    962.475454      0.172963   \n",
                            "std       10.42125    259.279249      2.770014    186.910907      0.494901   \n",
                            "min       17.00000      0.000000      1.000000      0.000000      0.000000   \n",
                            "25%       32.00000    102.000000      1.000000    999.000000      0.000000   \n",
                            "50%       38.00000    180.000000      2.000000    999.000000      0.000000   \n",
                            "75%       47.00000    319.000000      3.000000    999.000000      0.000000   \n",
                            "max       98.00000   4918.000000     56.000000    999.000000      7.000000   \n",
                            "\n",
                            "       emp.var.rate  cons.price.idx  cons.conf.idx     euribor3m   nr.employed  \n",
                            "count  41188.000000    41188.000000   41188.000000  41188.000000  41188.000000  \n",
                            "mean       0.081886       93.575664     -40.502600      3.621291   5167.035911  \n",
                            "std        1.570960        0.578840       4.628198      1.734447     72.251528  \n",
                            "min       -3.400000       92.201000     -50.800000      0.634000   4963.600000  \n",
                            "25%       -1.800000       93.075000     -42.700000      1.344000   5099.100000  \n",
                            "50%        1.100000       93.749000     -41.800000      4.857000   5191.000000  \n",
                            "75%        1.400000       93.994000     -36.400000      4.961000   5228.100000  \n",
                            "max        1.400000       94.767000     -26.900000      5.045000   5228.100000  "
                        ]
                    },
                    "execution_count": 76,
                    "metadata": {},
                    "output_type": "execute_result"
                }
            ],
            "source": [
                "df_bank.describe()"
            ]
        },
        {
            "cell_type": "markdown",
            "metadata": {},
            "source": [
                "Cosas que llaman la atención:\n",
                "* hay contactos con duración = 0 (no hubo contacto anterior, además esos tienen y = 'No'), y el máximo es 4918 seg (81 hs!!)\n",
                "* en pdays hay que tener cuidado con 999 (si es la primera campaña)\n",
                "\n"
            ]
        },
        {
            "cell_type": "code",
            "execution_count": 9,
            "metadata": {},
            "outputs": [],
            "source": [
                "X = df_raw.drop(columns = ['y'])"
            ]
        },
        {
            "cell_type": "code",
            "execution_count": 10,
            "metadata": {},
            "outputs": [],
            "source": [
                "y = df_raw['y']"
            ]
        },
        {
            "cell_type": "code",
            "execution_count": null,
            "metadata": {},
            "outputs": [],
            "source": [
                "X.select_dtypes(include = ['int', 'float']).columns"
            ]
        }
    ],
    "metadata": {
        "kernelspec": {
            "display_name": "Python 3.8.13 64-bit ('3.8.13')",
            "language": "python",
            "name": "python3"
        },
        "language_info": {
            "codemirror_mode": {
                "name": "ipython",
                "version": 3
            },
            "file_extension": ".py",
            "mimetype": "text/x-python",
            "name": "python",
            "nbconvert_exporter": "python",
            "pygments_lexer": "ipython3",
            "version": "3.8.13"
        },
        "orig_nbformat": 4,
        "vscode": {
            "interpreter": {
                "hash": "110cc1dee26208153f2972f08a2ad52b6a56238dc66d48e87fb757ef2996db56"
            }
        }
    },
    "nbformat": 4,
    "nbformat_minor": 2
}
