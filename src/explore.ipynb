{
    "cells": [
        {
            "cell_type": "markdown",
            "metadata": {},
            "source": [
                "# Descripción del problema\n",
                "\n",
                "Crear un algoritmo de clasificación que ayude a predecir si un cliente del Banco Portugués suscribirá o no un depósito a plazo."
            ]
        },
        {
            "cell_type": "markdown",
            "metadata": {},
            "source": [
                "### Primero se instalan e importan las librerías\n",
                "ejecutar en consola: `pip install -r requirements.txt`"
            ]
        },
        {
            "cell_type": "code",
            "execution_count": 2,
            "metadata": {},
            "outputs": [],
            "source": [
                "import pandas as pd\n",
                "import numpy as np\n",
                "import matplotlib.pyplot as plt\n",
                "import plotly.express as px\n",
                "import seaborn as sns"
            ]
        },
        {
            "cell_type": "markdown",
            "metadata": {},
            "source": [
                "### Step 1: cargar archivo"
            ]
        },
        {
            "cell_type": "code",
            "execution_count": 3,
            "metadata": {},
            "outputs": [],
            "source": [
                "# se carga archivo de la web\n",
                "df_raw = pd.read_csv('https://raw.githubusercontent.com/4GeeksAcademy/logistic-regression-project-tutorial/main/bank-marketing-campaign-data.csv', delimiter=';')"
            ]
        },
        {
            "cell_type": "code",
            "execution_count": 4,
            "metadata": {},
            "outputs": [
                {
                    "data": {
                        "text/html": [
                            "<div>\n",
                            "<style scoped>\n",
                            "    .dataframe tbody tr th:only-of-type {\n",
                            "        vertical-align: middle;\n",
                            "    }\n",
                            "\n",
                            "    .dataframe tbody tr th {\n",
                            "        vertical-align: top;\n",
                            "    }\n",
                            "\n",
                            "    .dataframe thead th {\n",
                            "        text-align: right;\n",
                            "    }\n",
                            "</style>\n",
                            "<table border=\"1\" class=\"dataframe\">\n",
                            "  <thead>\n",
                            "    <tr style=\"text-align: right;\">\n",
                            "      <th></th>\n",
                            "      <th>age</th>\n",
                            "      <th>job</th>\n",
                            "      <th>marital</th>\n",
                            "      <th>education</th>\n",
                            "      <th>default</th>\n",
                            "      <th>housing</th>\n",
                            "      <th>loan</th>\n",
                            "      <th>contact</th>\n",
                            "      <th>month</th>\n",
                            "      <th>day_of_week</th>\n",
                            "      <th>...</th>\n",
                            "      <th>campaign</th>\n",
                            "      <th>pdays</th>\n",
                            "      <th>previous</th>\n",
                            "      <th>poutcome</th>\n",
                            "      <th>emp.var.rate</th>\n",
                            "      <th>cons.price.idx</th>\n",
                            "      <th>cons.conf.idx</th>\n",
                            "      <th>euribor3m</th>\n",
                            "      <th>nr.employed</th>\n",
                            "      <th>y</th>\n",
                            "    </tr>\n",
                            "  </thead>\n",
                            "  <tbody>\n",
                            "    <tr>\n",
                            "      <th>29994</th>\n",
                            "      <td>65</td>\n",
                            "      <td>retired</td>\n",
                            "      <td>married</td>\n",
                            "      <td>basic.4y</td>\n",
                            "      <td>no</td>\n",
                            "      <td>unknown</td>\n",
                            "      <td>unknown</td>\n",
                            "      <td>cellular</td>\n",
                            "      <td>apr</td>\n",
                            "      <td>tue</td>\n",
                            "      <td>...</td>\n",
                            "      <td>1</td>\n",
                            "      <td>999</td>\n",
                            "      <td>0</td>\n",
                            "      <td>nonexistent</td>\n",
                            "      <td>-1.8</td>\n",
                            "      <td>93.075</td>\n",
                            "      <td>-47.1</td>\n",
                            "      <td>1.405</td>\n",
                            "      <td>5099.1</td>\n",
                            "      <td>yes</td>\n",
                            "    </tr>\n",
                            "    <tr>\n",
                            "      <th>8435</th>\n",
                            "      <td>37</td>\n",
                            "      <td>admin.</td>\n",
                            "      <td>divorced</td>\n",
                            "      <td>basic.9y</td>\n",
                            "      <td>no</td>\n",
                            "      <td>no</td>\n",
                            "      <td>no</td>\n",
                            "      <td>telephone</td>\n",
                            "      <td>jun</td>\n",
                            "      <td>tue</td>\n",
                            "      <td>...</td>\n",
                            "      <td>7</td>\n",
                            "      <td>999</td>\n",
                            "      <td>0</td>\n",
                            "      <td>nonexistent</td>\n",
                            "      <td>1.4</td>\n",
                            "      <td>94.465</td>\n",
                            "      <td>-41.8</td>\n",
                            "      <td>4.864</td>\n",
                            "      <td>5228.1</td>\n",
                            "      <td>yes</td>\n",
                            "    </tr>\n",
                            "    <tr>\n",
                            "      <th>15079</th>\n",
                            "      <td>33</td>\n",
                            "      <td>management</td>\n",
                            "      <td>single</td>\n",
                            "      <td>basic.9y</td>\n",
                            "      <td>no</td>\n",
                            "      <td>yes</td>\n",
                            "      <td>no</td>\n",
                            "      <td>cellular</td>\n",
                            "      <td>jul</td>\n",
                            "      <td>thu</td>\n",
                            "      <td>...</td>\n",
                            "      <td>1</td>\n",
                            "      <td>999</td>\n",
                            "      <td>0</td>\n",
                            "      <td>nonexistent</td>\n",
                            "      <td>1.4</td>\n",
                            "      <td>93.918</td>\n",
                            "      <td>-42.7</td>\n",
                            "      <td>4.958</td>\n",
                            "      <td>5228.1</td>\n",
                            "      <td>no</td>\n",
                            "    </tr>\n",
                            "  </tbody>\n",
                            "</table>\n",
                            "<p>3 rows × 21 columns</p>\n",
                            "</div>"
                        ],
                        "text/plain": [
                            "       age         job   marital education default  housing     loan  \\\n",
                            "29994   65     retired   married  basic.4y      no  unknown  unknown   \n",
                            "8435    37      admin.  divorced  basic.9y      no       no       no   \n",
                            "15079   33  management    single  basic.9y      no      yes       no   \n",
                            "\n",
                            "         contact month day_of_week  ...  campaign  pdays  previous  \\\n",
                            "29994   cellular   apr         tue  ...         1    999         0   \n",
                            "8435   telephone   jun         tue  ...         7    999         0   \n",
                            "15079   cellular   jul         thu  ...         1    999         0   \n",
                            "\n",
                            "          poutcome emp.var.rate  cons.price.idx  cons.conf.idx  euribor3m  \\\n",
                            "29994  nonexistent         -1.8          93.075          -47.1      1.405   \n",
                            "8435   nonexistent          1.4          94.465          -41.8      4.864   \n",
                            "15079  nonexistent          1.4          93.918          -42.7      4.958   \n",
                            "\n",
                            "       nr.employed    y  \n",
                            "29994       5099.1  yes  \n",
                            "8435        5228.1  yes  \n",
                            "15079       5228.1   no  \n",
                            "\n",
                            "[3 rows x 21 columns]"
                        ]
                    },
                    "execution_count": 4,
                    "metadata": {},
                    "output_type": "execute_result"
                }
            ],
            "source": [
                "df_raw.sample(3)"
            ]
        },
        {
            "cell_type": "code",
            "execution_count": 5,
            "metadata": {},
            "outputs": [],
            "source": [
                "# se guarda en la carpeta data/raw\n",
                "df_raw.to_csv('../data/raw/dataset_bank.csv')"
            ]
        },
        {
            "cell_type": "markdown",
            "metadata": {},
            "source": [
                "### Diccionario de variables\n",
                "\n",
                "* Age (numerical)\n",
                "* Job: Type of Job (categorical)\n",
                "* Marital: marital status (categorical)\n",
                "* Education: (categorical)\n",
                "* Default: has credit in default? (categorical)\n",
                "* Housing: has housing loan? (categorical)\n",
                "* Loan: has personal loan? (categorical)\n",
                "* contact: contact communication type (categorcial)\n",
                "* month: last contact month of year (categorical)\n",
                "* day_of_week: last contact day of the week (categorical)\n",
                "* duration: last contact duration, in seconds (numerical)\n",
                "**Important note:** this output highly affects the output target (if duration = 0, then y = 'no'). Yet, the duration is not known before a call is performed. Also, after the end of the call, y is obviously known. Consider if you should include it or not for a realistic predictive model.\n",
                "* campaign: number of contacts performed during this campaign and for this client (numerical)\n",
                "* pdays: number of days that passed by after the client was last contacted from a previous campaign (numeric; 999 means client was not previously contacted)\n",
                "* previous: number of contacts performed before this campaign and for this client (numerical)\n",
                "* poutcome: outcome of the previous marketing campaign (categorical)\n",
                "**Important note:** this attribute has three categories: 'failure', 'success' and 'non-existent'. 86% of the data falls into 'non-existent' category.\n",
                "* emp.var.rate: employment variation rate - quarterly indicator (numeric)\n",
                "* cons.price.idx: consumer price index- monthly indicator (numeric)\n",
                "* cons.conf.idx: consumer confidence index - monthly indicator (numeric)\n",
                "* euribor3m: euribor 3 month rate: - daily indicator(numeric)\n",
                "* nr.employed: number of employees - quarterly indicator (numeric)\n",
                "* **Target variable:** y, has the client subscribed a term deposit?"
            ]
        },
        {
            "cell_type": "markdown",
            "metadata": {},
            "source": [
                "### Steps 2 y 3: Breve EDA del dataset"
            ]
        },
        {
            "cell_type": "code",
            "execution_count": 6,
            "metadata": {},
            "outputs": [],
            "source": [
                "# se carga desde la carpeta\n",
                "df_bank = pd.read_csv('../data/raw/dataset_bank.csv', index_col = 0)"
            ]
        },
        {
            "cell_type": "code",
            "execution_count": 7,
            "metadata": {},
            "outputs": [
                {
                    "data": {
                        "text/plain": [
                            "(41188, 21)"
                        ]
                    },
                    "execution_count": 7,
                    "metadata": {},
                    "output_type": "execute_result"
                }
            ],
            "source": [
                "# chequeo dimensiones\n",
                "df_bank.shape"
            ]
        },
        {
            "cell_type": "markdown",
            "metadata": {},
            "source": [
                "El data frame contiene 41188 registros (filas) y 21 variables (columnas)"
            ]
        },
        {
            "cell_type": "code",
            "execution_count": 8,
            "metadata": {},
            "outputs": [
                {
                    "data": {
                        "text/html": [
                            "<div>\n",
                            "<style scoped>\n",
                            "    .dataframe tbody tr th:only-of-type {\n",
                            "        vertical-align: middle;\n",
                            "    }\n",
                            "\n",
                            "    .dataframe tbody tr th {\n",
                            "        vertical-align: top;\n",
                            "    }\n",
                            "\n",
                            "    .dataframe thead th {\n",
                            "        text-align: right;\n",
                            "    }\n",
                            "</style>\n",
                            "<table border=\"1\" class=\"dataframe\">\n",
                            "  <thead>\n",
                            "    <tr style=\"text-align: right;\">\n",
                            "      <th></th>\n",
                            "      <th>age</th>\n",
                            "      <th>job</th>\n",
                            "      <th>marital</th>\n",
                            "      <th>education</th>\n",
                            "      <th>default</th>\n",
                            "      <th>housing</th>\n",
                            "      <th>loan</th>\n",
                            "      <th>contact</th>\n",
                            "      <th>month</th>\n",
                            "      <th>day_of_week</th>\n",
                            "      <th>...</th>\n",
                            "      <th>campaign</th>\n",
                            "      <th>pdays</th>\n",
                            "      <th>previous</th>\n",
                            "      <th>poutcome</th>\n",
                            "      <th>emp.var.rate</th>\n",
                            "      <th>cons.price.idx</th>\n",
                            "      <th>cons.conf.idx</th>\n",
                            "      <th>euribor3m</th>\n",
                            "      <th>nr.employed</th>\n",
                            "      <th>y</th>\n",
                            "    </tr>\n",
                            "  </thead>\n",
                            "  <tbody>\n",
                            "    <tr>\n",
                            "      <th>39292</th>\n",
                            "      <td>31</td>\n",
                            "      <td>admin.</td>\n",
                            "      <td>single</td>\n",
                            "      <td>university.degree</td>\n",
                            "      <td>no</td>\n",
                            "      <td>yes</td>\n",
                            "      <td>no</td>\n",
                            "      <td>telephone</td>\n",
                            "      <td>mar</td>\n",
                            "      <td>tue</td>\n",
                            "      <td>...</td>\n",
                            "      <td>1</td>\n",
                            "      <td>3</td>\n",
                            "      <td>2</td>\n",
                            "      <td>success</td>\n",
                            "      <td>-1.8</td>\n",
                            "      <td>93.369</td>\n",
                            "      <td>-34.8</td>\n",
                            "      <td>0.646</td>\n",
                            "      <td>5008.7</td>\n",
                            "      <td>yes</td>\n",
                            "    </tr>\n",
                            "    <tr>\n",
                            "      <th>3310</th>\n",
                            "      <td>45</td>\n",
                            "      <td>housemaid</td>\n",
                            "      <td>divorced</td>\n",
                            "      <td>university.degree</td>\n",
                            "      <td>no</td>\n",
                            "      <td>yes</td>\n",
                            "      <td>no</td>\n",
                            "      <td>telephone</td>\n",
                            "      <td>may</td>\n",
                            "      <td>thu</td>\n",
                            "      <td>...</td>\n",
                            "      <td>1</td>\n",
                            "      <td>999</td>\n",
                            "      <td>0</td>\n",
                            "      <td>nonexistent</td>\n",
                            "      <td>1.1</td>\n",
                            "      <td>93.994</td>\n",
                            "      <td>-36.4</td>\n",
                            "      <td>4.860</td>\n",
                            "      <td>5191.0</td>\n",
                            "      <td>no</td>\n",
                            "    </tr>\n",
                            "    <tr>\n",
                            "      <th>30773</th>\n",
                            "      <td>43</td>\n",
                            "      <td>blue-collar</td>\n",
                            "      <td>married</td>\n",
                            "      <td>basic.9y</td>\n",
                            "      <td>unknown</td>\n",
                            "      <td>yes</td>\n",
                            "      <td>no</td>\n",
                            "      <td>cellular</td>\n",
                            "      <td>may</td>\n",
                            "      <td>tue</td>\n",
                            "      <td>...</td>\n",
                            "      <td>1</td>\n",
                            "      <td>999</td>\n",
                            "      <td>0</td>\n",
                            "      <td>nonexistent</td>\n",
                            "      <td>-1.8</td>\n",
                            "      <td>92.893</td>\n",
                            "      <td>-46.2</td>\n",
                            "      <td>1.344</td>\n",
                            "      <td>5099.1</td>\n",
                            "      <td>no</td>\n",
                            "    </tr>\n",
                            "    <tr>\n",
                            "      <th>35211</th>\n",
                            "      <td>25</td>\n",
                            "      <td>blue-collar</td>\n",
                            "      <td>married</td>\n",
                            "      <td>basic.4y</td>\n",
                            "      <td>no</td>\n",
                            "      <td>no</td>\n",
                            "      <td>no</td>\n",
                            "      <td>cellular</td>\n",
                            "      <td>may</td>\n",
                            "      <td>fri</td>\n",
                            "      <td>...</td>\n",
                            "      <td>2</td>\n",
                            "      <td>999</td>\n",
                            "      <td>0</td>\n",
                            "      <td>nonexistent</td>\n",
                            "      <td>-1.8</td>\n",
                            "      <td>92.893</td>\n",
                            "      <td>-46.2</td>\n",
                            "      <td>1.250</td>\n",
                            "      <td>5099.1</td>\n",
                            "      <td>no</td>\n",
                            "    </tr>\n",
                            "    <tr>\n",
                            "      <th>11927</th>\n",
                            "      <td>31</td>\n",
                            "      <td>services</td>\n",
                            "      <td>single</td>\n",
                            "      <td>professional.course</td>\n",
                            "      <td>no</td>\n",
                            "      <td>yes</td>\n",
                            "      <td>no</td>\n",
                            "      <td>telephone</td>\n",
                            "      <td>jun</td>\n",
                            "      <td>fri</td>\n",
                            "      <td>...</td>\n",
                            "      <td>2</td>\n",
                            "      <td>999</td>\n",
                            "      <td>0</td>\n",
                            "      <td>nonexistent</td>\n",
                            "      <td>1.4</td>\n",
                            "      <td>94.465</td>\n",
                            "      <td>-41.8</td>\n",
                            "      <td>4.959</td>\n",
                            "      <td>5228.1</td>\n",
                            "      <td>no</td>\n",
                            "    </tr>\n",
                            "  </tbody>\n",
                            "</table>\n",
                            "<p>5 rows × 21 columns</p>\n",
                            "</div>"
                        ],
                        "text/plain": [
                            "       age          job   marital            education  default housing loan  \\\n",
                            "39292   31       admin.    single    university.degree       no     yes   no   \n",
                            "3310    45    housemaid  divorced    university.degree       no     yes   no   \n",
                            "30773   43  blue-collar   married             basic.9y  unknown     yes   no   \n",
                            "35211   25  blue-collar   married             basic.4y       no      no   no   \n",
                            "11927   31     services    single  professional.course       no     yes   no   \n",
                            "\n",
                            "         contact month day_of_week  ...  campaign  pdays  previous  \\\n",
                            "39292  telephone   mar         tue  ...         1      3         2   \n",
                            "3310   telephone   may         thu  ...         1    999         0   \n",
                            "30773   cellular   may         tue  ...         1    999         0   \n",
                            "35211   cellular   may         fri  ...         2    999         0   \n",
                            "11927  telephone   jun         fri  ...         2    999         0   \n",
                            "\n",
                            "          poutcome emp.var.rate  cons.price.idx  cons.conf.idx  euribor3m  \\\n",
                            "39292      success         -1.8          93.369          -34.8      0.646   \n",
                            "3310   nonexistent          1.1          93.994          -36.4      4.860   \n",
                            "30773  nonexistent         -1.8          92.893          -46.2      1.344   \n",
                            "35211  nonexistent         -1.8          92.893          -46.2      1.250   \n",
                            "11927  nonexistent          1.4          94.465          -41.8      4.959   \n",
                            "\n",
                            "       nr.employed    y  \n",
                            "39292       5008.7  yes  \n",
                            "3310        5191.0   no  \n",
                            "30773       5099.1   no  \n",
                            "35211       5099.1   no  \n",
                            "11927       5228.1   no  \n",
                            "\n",
                            "[5 rows x 21 columns]"
                        ]
                    },
                    "execution_count": 8,
                    "metadata": {},
                    "output_type": "execute_result"
                }
            ],
            "source": [
                "# miro 5 observaciones al azar\n",
                "df_bank.sample(5)"
            ]
        },
        {
            "cell_type": "code",
            "execution_count": 9,
            "metadata": {},
            "outputs": [
                {
                    "name": "stdout",
                    "output_type": "stream",
                    "text": [
                        "<class 'pandas.core.frame.DataFrame'>\n",
                        "Int64Index: 41188 entries, 0 to 41187\n",
                        "Data columns (total 21 columns):\n",
                        " #   Column          Non-Null Count  Dtype  \n",
                        "---  ------          --------------  -----  \n",
                        " 0   age             41188 non-null  int64  \n",
                        " 1   job             41188 non-null  object \n",
                        " 2   marital         41188 non-null  object \n",
                        " 3   education       41188 non-null  object \n",
                        " 4   default         41188 non-null  object \n",
                        " 5   housing         41188 non-null  object \n",
                        " 6   loan            41188 non-null  object \n",
                        " 7   contact         41188 non-null  object \n",
                        " 8   month           41188 non-null  object \n",
                        " 9   day_of_week     41188 non-null  object \n",
                        " 10  duration        41188 non-null  int64  \n",
                        " 11  campaign        41188 non-null  int64  \n",
                        " 12  pdays           41188 non-null  int64  \n",
                        " 13  previous        41188 non-null  int64  \n",
                        " 14  poutcome        41188 non-null  object \n",
                        " 15  emp.var.rate    41188 non-null  float64\n",
                        " 16  cons.price.idx  41188 non-null  float64\n",
                        " 17  cons.conf.idx   41188 non-null  float64\n",
                        " 18  euribor3m       41188 non-null  float64\n",
                        " 19  nr.employed     41188 non-null  float64\n",
                        " 20  y               41188 non-null  object \n",
                        "dtypes: float64(5), int64(5), object(11)\n",
                        "memory usage: 6.9+ MB\n"
                    ]
                }
            ],
            "source": [
                "# info básica\n",
                "df_bank.info()"
            ]
        },
        {
            "cell_type": "markdown",
            "metadata": {},
            "source": [
                "**Apreciaciones:**\n",
                "\n",
                "* no hay valores nulos en ninguna de las variables\n",
                "* hay que convertir las variables de tipo object a categorical"
            ]
        },
        {
            "cell_type": "markdown",
            "metadata": {},
            "source": [
                "#### Visualización de las categorías de cada variable categórica y cómo se distribuyen, recodificación para sustituir categorías \"unknown\""
            ]
        },
        {
            "cell_type": "markdown",
            "metadata": {},
            "source": [
                "Tipo de trabajo"
            ]
        },
        {
            "cell_type": "code",
            "execution_count": 10,
            "metadata": {},
            "outputs": [
                {
                    "name": "stdout",
                    "output_type": "stream",
                    "text": [
                        "admin.           10422\n",
                        "blue-collar       9254\n",
                        "technician        6743\n",
                        "services          3969\n",
                        "management        2924\n",
                        "retired           1720\n",
                        "entrepreneur      1456\n",
                        "self-employed     1421\n",
                        "housemaid         1060\n",
                        "unemployed        1014\n",
                        "student            875\n",
                        "unknown            330\n",
                        "Name: job, dtype: int64\n",
                        "Cantidad de categorías: 12\n",
                        "admin.           10752\n",
                        "blue-collar       9254\n",
                        "technician        6743\n",
                        "services          3969\n",
                        "management        2924\n",
                        "retired           1720\n",
                        "entrepreneur      1456\n",
                        "self-employed     1421\n",
                        "housemaid         1060\n",
                        "unemployed        1014\n",
                        "student            875\n",
                        "Name: job, dtype: int64\n"
                    ]
                }
            ],
            "source": [
                "# Tipo de trabajo\n",
                "print(df_bank['job'].value_counts())\n",
                "print(f'Cantidad de categorías: {df_bank[\"job\"].nunique()}')\n",
                "\n",
                "# sustituyo categoría \"unknown\" por la más frecuente\n",
                "mask = df_bank['job'] == 'unknown'\n",
                "df_bank.loc[mask, 'job'] = 'admin.'\n",
                "print(df_bank['job'].value_counts())"
            ]
        },
        {
            "cell_type": "markdown",
            "metadata": {},
            "source": [
                "Estado civil"
            ]
        },
        {
            "cell_type": "code",
            "execution_count": 11,
            "metadata": {},
            "outputs": [
                {
                    "name": "stdout",
                    "output_type": "stream",
                    "text": [
                        "married     24928\n",
                        "single      11568\n",
                        "divorced     4612\n",
                        "unknown        80\n",
                        "Name: marital, dtype: int64\n",
                        "Cantidad de categorías: 4\n",
                        "married     25008\n",
                        "single      11568\n",
                        "divorced     4612\n",
                        "Name: marital, dtype: int64\n"
                    ]
                }
            ],
            "source": [
                "# Estado civil\n",
                "print(df_bank['marital'].value_counts())\n",
                "print(f'Cantidad de categorías: {df_bank[\"marital\"].nunique()}')\n",
                "\n",
                "# sustituyo categoría \"unknown\" por la más frecuente\n",
                "mask = df_bank['marital'] == 'unknown'\n",
                "df_bank.loc[mask, 'marital'] = 'married'\n",
                "print(df_bank['marital'].value_counts())"
            ]
        },
        {
            "cell_type": "markdown",
            "metadata": {},
            "source": [
                "Nivel educativo"
            ]
        },
        {
            "cell_type": "code",
            "execution_count": 12,
            "metadata": {},
            "outputs": [
                {
                    "name": "stdout",
                    "output_type": "stream",
                    "text": [
                        "university.degree      12168\n",
                        "high.school             9515\n",
                        "basic.9y                6045\n",
                        "professional.course     5243\n",
                        "basic.4y                4176\n",
                        "basic.6y                2292\n",
                        "unknown                 1731\n",
                        "illiterate                18\n",
                        "Name: education, dtype: int64\n",
                        "Cantidad de categorías: 8\n",
                        "university.degree      13899\n",
                        "high.school             9515\n",
                        "basic.9y                6045\n",
                        "professional.course     5243\n",
                        "basic.4y                4176\n",
                        "basic.6y                2292\n",
                        "illiterate                18\n",
                        "Name: education, dtype: int64\n"
                    ]
                }
            ],
            "source": [
                "# Nivel educativo\n",
                "print(df_bank['education'].value_counts())\n",
                "print(f'Cantidad de categorías: {df_bank[\"education\"].nunique()}')\n",
                "\n",
                "# sustituyo categoría \"unknown\" por la más frecuente\n",
                "mask = df_bank['education'] == 'unknown'\n",
                "df_bank.loc[mask, 'education'] = 'university.degree'\n",
                "print(df_bank['education'].value_counts())"
            ]
        },
        {
            "cell_type": "markdown",
            "metadata": {},
            "source": [
                "Créditos en default?"
            ]
        },
        {
            "cell_type": "code",
            "execution_count": 13,
            "metadata": {},
            "outputs": [
                {
                    "name": "stdout",
                    "output_type": "stream",
                    "text": [
                        "no         32588\n",
                        "unknown     8597\n",
                        "yes            3\n",
                        "Name: default, dtype: int64\n",
                        "Cantidad de categorías: 3\n",
                        "no     41185\n",
                        "yes        3\n",
                        "Name: default, dtype: int64\n"
                    ]
                }
            ],
            "source": [
                "# Tiene créditos en default?\n",
                "print(df_bank['default'].value_counts())\n",
                "print(f'Cantidad de categorías: {df_bank[\"default\"].nunique()}')\n",
                "\n",
                "# sustituyo categoría \"unknown\" por la más frecuente\n",
                "mask = df_bank['default'] == 'unknown'\n",
                "df_bank.loc[mask, 'default'] = 'no'\n",
                "print(df_bank['default'].value_counts())"
            ]
        },
        {
            "cell_type": "markdown",
            "metadata": {},
            "source": [
                "Préstamo de vivienda?"
            ]
        },
        {
            "cell_type": "code",
            "execution_count": 14,
            "metadata": {},
            "outputs": [
                {
                    "name": "stdout",
                    "output_type": "stream",
                    "text": [
                        "yes        21576\n",
                        "no         18622\n",
                        "unknown      990\n",
                        "Name: housing, dtype: int64\n",
                        "Cantidad de categorías: 3\n",
                        "yes    22566\n",
                        "no     18622\n",
                        "Name: housing, dtype: int64\n"
                    ]
                }
            ],
            "source": [
                "# Tiene préstamo de vivienda?\n",
                "print(df_bank['housing'].value_counts())\n",
                "print(f'Cantidad de categorías: {df_bank[\"housing\"].nunique()}')\n",
                "\n",
                "# sustituyo categoría \"unknown\" por la más frecuente\n",
                "mask = df_bank['housing'] == 'unknown'\n",
                "df_bank.loc[mask, 'housing'] = 'yes'\n",
                "print(df_bank['housing'].value_counts())\n"
            ]
        },
        {
            "cell_type": "markdown",
            "metadata": {},
            "source": [
                "Algún préstamo?"
            ]
        },
        {
            "cell_type": "code",
            "execution_count": 15,
            "metadata": {},
            "outputs": [
                {
                    "name": "stdout",
                    "output_type": "stream",
                    "text": [
                        "no         33950\n",
                        "yes         6248\n",
                        "unknown      990\n",
                        "Name: loan, dtype: int64\n",
                        "Cantidad de categorías: 3\n",
                        "no     34940\n",
                        "yes     6248\n",
                        "Name: loan, dtype: int64\n"
                    ]
                }
            ],
            "source": [
                "# Tiene algún préstamo?\n",
                "print(df_bank['loan'].value_counts())\n",
                "print(f'Cantidad de categorías: {df_bank[\"loan\"].nunique()}')\n",
                "\n",
                "# sustituyo categoría \"unknown\" por la más frecuente\n",
                "mask = df_bank['loan'] == 'unknown'\n",
                "df_bank.loc[mask, 'loan'] = 'no'\n",
                "print(df_bank['loan'].value_counts())\n"
            ]
        },
        {
            "cell_type": "markdown",
            "metadata": {},
            "source": [
                "Tipo de contacto"
            ]
        },
        {
            "cell_type": "code",
            "execution_count": 16,
            "metadata": {},
            "outputs": [
                {
                    "name": "stdout",
                    "output_type": "stream",
                    "text": [
                        "cellular     26144\n",
                        "telephone    15044\n",
                        "Name: contact, dtype: int64\n",
                        "Cantidad de categorías: 2\n"
                    ]
                }
            ],
            "source": [
                "# Tipo de contacto\n",
                "print(df_bank['contact'].value_counts())\n",
                "print(f'Cantidad de categorías: {df_bank[\"contact\"].nunique()}')\n",
                "\n",
                "# esta variable no tiene categoría \"unknown\" "
            ]
        },
        {
            "cell_type": "markdown",
            "metadata": {},
            "source": [
                "Mes del último contacto"
            ]
        },
        {
            "cell_type": "code",
            "execution_count": 17,
            "metadata": {},
            "outputs": [
                {
                    "name": "stdout",
                    "output_type": "stream",
                    "text": [
                        "may    13769\n",
                        "jul     7174\n",
                        "aug     6178\n",
                        "jun     5318\n",
                        "nov     4101\n",
                        "apr     2632\n",
                        "oct      718\n",
                        "sep      570\n",
                        "mar      546\n",
                        "dec      182\n",
                        "Name: month, dtype: int64\n",
                        "Cantidad de categorías: 10\n"
                    ]
                }
            ],
            "source": [
                "# Mes del último contacto\n",
                "print(df_bank['month'].value_counts())\n",
                "print(f'Cantidad de categorías: {df_bank[\"month\"].nunique()}')\n",
                "\n",
                "# esta variable no tiene categoría \"unknown\" "
            ]
        },
        {
            "cell_type": "markdown",
            "metadata": {},
            "source": [
                "Día de la semana del último contacto"
            ]
        },
        {
            "cell_type": "code",
            "execution_count": 18,
            "metadata": {},
            "outputs": [
                {
                    "name": "stdout",
                    "output_type": "stream",
                    "text": [
                        "thu    8623\n",
                        "mon    8514\n",
                        "wed    8134\n",
                        "tue    8090\n",
                        "fri    7827\n",
                        "Name: day_of_week, dtype: int64\n",
                        "Cantidad de categorías: 5\n"
                    ]
                }
            ],
            "source": [
                "# Día de la semana del último contacto\n",
                "print(df_bank['day_of_week'].value_counts())\n",
                "print(f'Cantidad de categorías: {df_bank[\"day_of_week\"].nunique()}')\n",
                "\n",
                "# esta variable no tiene categoría \"unknown\" "
            ]
        },
        {
            "cell_type": "markdown",
            "metadata": {},
            "source": [
                "Resultado de la campaña anterior"
            ]
        },
        {
            "cell_type": "code",
            "execution_count": 19,
            "metadata": {},
            "outputs": [
                {
                    "name": "stdout",
                    "output_type": "stream",
                    "text": [
                        "nonexistent    35563\n",
                        "failure         4252\n",
                        "success         1373\n",
                        "Name: poutcome, dtype: int64\n",
                        "Cantidad de categorías: 3\n"
                    ]
                }
            ],
            "source": [
                "# Resultado de la campaña anterior\n",
                "print(df_bank['poutcome'].value_counts())\n",
                "print(f'Cantidad de categorías: {df_bank[\"poutcome\"].nunique()}')\n",
                "\n",
                "# esta variable no tiene categoría \"unknown\" "
            ]
        },
        {
            "cell_type": "markdown",
            "metadata": {},
            "source": [
                "Se convierten a categorical"
            ]
        },
        {
            "cell_type": "code",
            "execution_count": 20,
            "metadata": {},
            "outputs": [
                {
                    "name": "stdout",
                    "output_type": "stream",
                    "text": [
                        "<class 'pandas.core.frame.DataFrame'>\n",
                        "Int64Index: 41188 entries, 0 to 41187\n",
                        "Data columns (total 21 columns):\n",
                        " #   Column          Non-Null Count  Dtype   \n",
                        "---  ------          --------------  -----   \n",
                        " 0   age             41188 non-null  int64   \n",
                        " 1   job             41188 non-null  category\n",
                        " 2   marital         41188 non-null  category\n",
                        " 3   education       41188 non-null  category\n",
                        " 4   default         41188 non-null  category\n",
                        " 5   housing         41188 non-null  category\n",
                        " 6   loan            41188 non-null  category\n",
                        " 7   contact         41188 non-null  category\n",
                        " 8   month           41188 non-null  category\n",
                        " 9   day_of_week     41188 non-null  category\n",
                        " 10  duration        41188 non-null  int64   \n",
                        " 11  campaign        41188 non-null  int64   \n",
                        " 12  pdays           41188 non-null  int64   \n",
                        " 13  previous        41188 non-null  int64   \n",
                        " 14  poutcome        41188 non-null  category\n",
                        " 15  emp.var.rate    41188 non-null  float64 \n",
                        " 16  cons.price.idx  41188 non-null  float64 \n",
                        " 17  cons.conf.idx   41188 non-null  float64 \n",
                        " 18  euribor3m       41188 non-null  float64 \n",
                        " 19  nr.employed     41188 non-null  float64 \n",
                        " 20  y               41188 non-null  category\n",
                        "dtypes: category(11), float64(5), int64(5)\n",
                        "memory usage: 3.9 MB\n"
                    ]
                }
            ],
            "source": [
                "# convierto a categóricas\n",
                "cols = df_bank.select_dtypes(include = ['object']).columns\n",
                "for i in cols:\n",
                "    df_bank[i] = pd.Categorical(df_bank[i])\n",
                "df_bank.info()"
            ]
        },
        {
            "cell_type": "markdown",
            "metadata": {},
            "source": [
                "Ahora se analiza la variable target"
            ]
        },
        {
            "cell_type": "code",
            "execution_count": 21,
            "metadata": {},
            "outputs": [
                {
                    "name": "stdout",
                    "output_type": "stream",
                    "text": [
                        "no     36548\n",
                        "yes     4640\n",
                        "Name: y, dtype: int64\n",
                        "Cantidad de categorías: 2\n"
                    ]
                }
            ],
            "source": [
                "# variable respuesta, dependiente o target: cliente suscribió un plazo fijo?\n",
                "print(df_bank['y'].value_counts())\n",
                "print(f'Cantidad de categorías: {df_bank[\"y\"].nunique()}')"
            ]
        },
        {
            "cell_type": "code",
            "execution_count": 21,
            "metadata": {},
            "outputs": [
                {
                    "name": "stdout",
                    "output_type": "stream",
                    "text": [
                        "yes = 11%\n",
                        "no = 89%\n"
                    ]
                }
            ],
            "source": [
                "print(f'yes = {round(100*sum(df_bank[\"y\"] == \"yes\")/len(df_bank))}%')\n",
                "print(f'no = {round(100*sum(df_bank[\"y\"] == \"no\")/len(df_bank))}%')"
            ]
        },
        {
            "cell_type": "markdown",
            "metadata": {},
            "source": [
                "La distribución de la variable target está desbalanceada!!"
            ]
        },
        {
            "cell_type": "markdown",
            "metadata": {},
            "source": [
                "Resumen de las variables numéricas:"
            ]
        },
        {
            "cell_type": "code",
            "execution_count": 22,
            "metadata": {},
            "outputs": [
                {
                    "data": {
                        "text/html": [
                            "<div>\n",
                            "<style scoped>\n",
                            "    .dataframe tbody tr th:only-of-type {\n",
                            "        vertical-align: middle;\n",
                            "    }\n",
                            "\n",
                            "    .dataframe tbody tr th {\n",
                            "        vertical-align: top;\n",
                            "    }\n",
                            "\n",
                            "    .dataframe thead th {\n",
                            "        text-align: right;\n",
                            "    }\n",
                            "</style>\n",
                            "<table border=\"1\" class=\"dataframe\">\n",
                            "  <thead>\n",
                            "    <tr style=\"text-align: right;\">\n",
                            "      <th></th>\n",
                            "      <th>age</th>\n",
                            "      <th>duration</th>\n",
                            "      <th>campaign</th>\n",
                            "      <th>pdays</th>\n",
                            "      <th>previous</th>\n",
                            "      <th>emp.var.rate</th>\n",
                            "      <th>cons.price.idx</th>\n",
                            "      <th>cons.conf.idx</th>\n",
                            "      <th>euribor3m</th>\n",
                            "      <th>nr.employed</th>\n",
                            "    </tr>\n",
                            "  </thead>\n",
                            "  <tbody>\n",
                            "    <tr>\n",
                            "      <th>count</th>\n",
                            "      <td>41188.00000</td>\n",
                            "      <td>41188.000000</td>\n",
                            "      <td>41188.000000</td>\n",
                            "      <td>41188.000000</td>\n",
                            "      <td>41188.000000</td>\n",
                            "      <td>41188.000000</td>\n",
                            "      <td>41188.000000</td>\n",
                            "      <td>41188.000000</td>\n",
                            "      <td>41188.000000</td>\n",
                            "      <td>41188.000000</td>\n",
                            "    </tr>\n",
                            "    <tr>\n",
                            "      <th>mean</th>\n",
                            "      <td>40.02406</td>\n",
                            "      <td>258.285010</td>\n",
                            "      <td>2.567593</td>\n",
                            "      <td>962.475454</td>\n",
                            "      <td>0.172963</td>\n",
                            "      <td>0.081886</td>\n",
                            "      <td>93.575664</td>\n",
                            "      <td>-40.502600</td>\n",
                            "      <td>3.621291</td>\n",
                            "      <td>5167.035911</td>\n",
                            "    </tr>\n",
                            "    <tr>\n",
                            "      <th>std</th>\n",
                            "      <td>10.42125</td>\n",
                            "      <td>259.279249</td>\n",
                            "      <td>2.770014</td>\n",
                            "      <td>186.910907</td>\n",
                            "      <td>0.494901</td>\n",
                            "      <td>1.570960</td>\n",
                            "      <td>0.578840</td>\n",
                            "      <td>4.628198</td>\n",
                            "      <td>1.734447</td>\n",
                            "      <td>72.251528</td>\n",
                            "    </tr>\n",
                            "    <tr>\n",
                            "      <th>min</th>\n",
                            "      <td>17.00000</td>\n",
                            "      <td>0.000000</td>\n",
                            "      <td>1.000000</td>\n",
                            "      <td>0.000000</td>\n",
                            "      <td>0.000000</td>\n",
                            "      <td>-3.400000</td>\n",
                            "      <td>92.201000</td>\n",
                            "      <td>-50.800000</td>\n",
                            "      <td>0.634000</td>\n",
                            "      <td>4963.600000</td>\n",
                            "    </tr>\n",
                            "    <tr>\n",
                            "      <th>25%</th>\n",
                            "      <td>32.00000</td>\n",
                            "      <td>102.000000</td>\n",
                            "      <td>1.000000</td>\n",
                            "      <td>999.000000</td>\n",
                            "      <td>0.000000</td>\n",
                            "      <td>-1.800000</td>\n",
                            "      <td>93.075000</td>\n",
                            "      <td>-42.700000</td>\n",
                            "      <td>1.344000</td>\n",
                            "      <td>5099.100000</td>\n",
                            "    </tr>\n",
                            "    <tr>\n",
                            "      <th>50%</th>\n",
                            "      <td>38.00000</td>\n",
                            "      <td>180.000000</td>\n",
                            "      <td>2.000000</td>\n",
                            "      <td>999.000000</td>\n",
                            "      <td>0.000000</td>\n",
                            "      <td>1.100000</td>\n",
                            "      <td>93.749000</td>\n",
                            "      <td>-41.800000</td>\n",
                            "      <td>4.857000</td>\n",
                            "      <td>5191.000000</td>\n",
                            "    </tr>\n",
                            "    <tr>\n",
                            "      <th>75%</th>\n",
                            "      <td>47.00000</td>\n",
                            "      <td>319.000000</td>\n",
                            "      <td>3.000000</td>\n",
                            "      <td>999.000000</td>\n",
                            "      <td>0.000000</td>\n",
                            "      <td>1.400000</td>\n",
                            "      <td>93.994000</td>\n",
                            "      <td>-36.400000</td>\n",
                            "      <td>4.961000</td>\n",
                            "      <td>5228.100000</td>\n",
                            "    </tr>\n",
                            "    <tr>\n",
                            "      <th>max</th>\n",
                            "      <td>98.00000</td>\n",
                            "      <td>4918.000000</td>\n",
                            "      <td>56.000000</td>\n",
                            "      <td>999.000000</td>\n",
                            "      <td>7.000000</td>\n",
                            "      <td>1.400000</td>\n",
                            "      <td>94.767000</td>\n",
                            "      <td>-26.900000</td>\n",
                            "      <td>5.045000</td>\n",
                            "      <td>5228.100000</td>\n",
                            "    </tr>\n",
                            "  </tbody>\n",
                            "</table>\n",
                            "</div>"
                        ],
                        "text/plain": [
                            "               age      duration      campaign         pdays      previous  \\\n",
                            "count  41188.00000  41188.000000  41188.000000  41188.000000  41188.000000   \n",
                            "mean      40.02406    258.285010      2.567593    962.475454      0.172963   \n",
                            "std       10.42125    259.279249      2.770014    186.910907      0.494901   \n",
                            "min       17.00000      0.000000      1.000000      0.000000      0.000000   \n",
                            "25%       32.00000    102.000000      1.000000    999.000000      0.000000   \n",
                            "50%       38.00000    180.000000      2.000000    999.000000      0.000000   \n",
                            "75%       47.00000    319.000000      3.000000    999.000000      0.000000   \n",
                            "max       98.00000   4918.000000     56.000000    999.000000      7.000000   \n",
                            "\n",
                            "       emp.var.rate  cons.price.idx  cons.conf.idx     euribor3m   nr.employed  \n",
                            "count  41188.000000    41188.000000   41188.000000  41188.000000  41188.000000  \n",
                            "mean       0.081886       93.575664     -40.502600      3.621291   5167.035911  \n",
                            "std        1.570960        0.578840       4.628198      1.734447     72.251528  \n",
                            "min       -3.400000       92.201000     -50.800000      0.634000   4963.600000  \n",
                            "25%       -1.800000       93.075000     -42.700000      1.344000   5099.100000  \n",
                            "50%        1.100000       93.749000     -41.800000      4.857000   5191.000000  \n",
                            "75%        1.400000       93.994000     -36.400000      4.961000   5228.100000  \n",
                            "max        1.400000       94.767000     -26.900000      5.045000   5228.100000  "
                        ]
                    },
                    "execution_count": 22,
                    "metadata": {},
                    "output_type": "execute_result"
                }
            ],
            "source": [
                "df_bank.describe()"
            ]
        },
        {
            "cell_type": "markdown",
            "metadata": {},
            "source": [
                "Cosas que llaman la atención:\n",
                "* hay contactos con duración = 0 (no hubo contacto anterior, además según indica la tarea esos tienen y = 'No'), y el máximo es 4918 seg (81 hs!!)\n",
                "* en pdays hay que tener cuidado con 999 (si es la primera campaña)\n",
                "\n"
            ]
        },
        {
            "cell_type": "code",
            "execution_count": 23,
            "metadata": {},
            "outputs": [
                {
                    "data": {
                        "image/png": "[encoded data removed]",
                        "text/plain": [
                            "<Figure size 720x720 with 12 Axes>"
                        ]
                    },
                    "metadata": {
                        "needs_background": "light"
                    },
                    "output_type": "display_data"
                }
            ],
            "source": [
                "# histogramas\n",
                "df_bank.hist(figsize=(10, 10))\n",
                "plt.show()"
            ]
        },
        {
            "cell_type": "code",
            "execution_count": 31,
            "metadata": {},
            "outputs": [
                {
                    "ename": "TypeError",
                    "evalue": "Cannot interpret '       age          job  marital            education default housing loan  \\\n0       56    housemaid  married             basic.4y      no      no   no   \n1       57     services  married          high.school      no      no   no   \n2       37     services  married          high.school      no     yes   no   \n3       40       admin.  married             basic.6y      no      no   no   \n4       56     services  married          high.school      no      no  yes   \n...    ...          ...      ...                  ...     ...     ...  ...   \n41183   73      retired  married  professional.course      no     yes   no   \n41184   46  blue-collar  married  professional.course      no      no   no   \n41185   56      retired  married    university.degree      no     yes   no   \n41186   44   technician  married  professional.course      no      no   no   \n41187   74      retired  married  professional.course      no     yes   no   \n\n         contact month day_of_week  ...  campaign  pdays  previous  \\\n0      telephone   may         mon  ...         1    999         0   \n1      telephone   may         mon  ...         1    999         0   \n2      telephone   may         mon  ...         1    999         0   \n3      telephone   may         mon  ...         1    999         0   \n4      telephone   may         mon  ...         1    999         0   \n...          ...   ...         ...  ...       ...    ...       ...   \n41183   cellular   nov         fri  ...         1    999         0   \n41184   cellular   nov         fri  ...         1    999         0   \n41185   cellular   nov         fri  ...         2    999         0   \n41186   cellular   nov         fri  ...         1    999         0   \n41187   cellular   nov         fri  ...         3    999         1   \n\n          poutcome emp.var.rate  cons.price.idx  cons.conf.idx  euribor3m  \\\n0      nonexistent          1.1          93.994          -36.4      4.857   \n1      nonexistent          1.1          93.994          -36.4      4.857   \n2      nonexistent          1.1          93.994          -36.4      4.857   \n3      nonexistent          1.1          93.994          -36.4      4.857   \n4      nonexistent          1.1          93.994          -36.4      4.857   \n...            ...          ...             ...            ...        ...   \n41183  nonexistent         -1.1          94.767          -50.8      1.028   \n41184  nonexistent         -1.1          94.767          -50.8      1.028   \n41185  nonexistent         -1.1          94.767          -50.8      1.028   \n41186  nonexistent         -1.1          94.767          -50.8      1.028   \n41187      failure         -1.1          94.767          -50.8      1.028   \n\n       nr.employed    y  \n0           5191.0   no  \n1           5191.0   no  \n2           5191.0   no  \n3           5191.0   no  \n4           5191.0   no  \n...            ...  ...  \n41183       4963.6  yes  \n41184       4963.6   no  \n41185       4963.6   no  \n41186       4963.6  yes  \n41187       4963.6   no  \n\n[41188 rows x 21 columns]' as a data type",
                    "output_type": "error",
                    "traceback": [
                        "\u001b[0;31m---------------------------------------------------------------------------\u001b[0m",
                        "\u001b[0;31mTypeError\u001b[0m                                 Traceback (most recent call last)",
                        "\u001b[1;32m/workspace/Logistic-Regression-Project-Tutorial/src/explore.ipynb Cell 47\u001b[0m in \u001b[0;36m<cell line: 1>\u001b[0;34m()\u001b[0m\n\u001b[0;32m----> <a href='vscode-notebook-cell://rominagonel-logisticreg-l48matryggd.ws-us53.gitpod.io/workspace/Logistic-Regression-Project-Tutorial/src/explore.ipynb#ch0000046vscode-remote?line=0'>1</a>\u001b[0m np\u001b[39m.\u001b[39;49mdtype(df_bank)\n",
                        "\u001b[0;31mTypeError\u001b[0m: Cannot interpret '       age          job  marital            education default housing loan  \\\n0       56    housemaid  married             basic.4y      no      no   no   \n1       57     services  married          high.school      no      no   no   \n2       37     services  married          high.school      no     yes   no   \n3       40       admin.  married             basic.6y      no      no   no   \n4       56     services  married          high.school      no      no  yes   \n...    ...          ...      ...                  ...     ...     ...  ...   \n41183   73      retired  married  professional.course      no     yes   no   \n41184   46  blue-collar  married  professional.course      no      no   no   \n41185   56      retired  married    university.degree      no     yes   no   \n41186   44   technician  married  professional.course      no      no   no   \n41187   74      retired  married  professional.course      no     yes   no   \n\n         contact month day_of_week  ...  campaign  pdays  previous  \\\n0      telephone   may         mon  ...         1    999         0   \n1      telephone   may         mon  ...         1    999         0   \n2      telephone   may         mon  ...         1    999         0   \n3      telephone   may         mon  ...         1    999         0   \n4      telephone   may         mon  ...         1    999         0   \n...          ...   ...         ...  ...       ...    ...       ...   \n41183   cellular   nov         fri  ...         1    999         0   \n41184   cellular   nov         fri  ...         1    999         0   \n41185   cellular   nov         fri  ...         2    999         0   \n41186   cellular   nov         fri  ...         1    999         0   \n41187   cellular   nov         fri  ...         3    999         1   \n\n          poutcome emp.var.rate  cons.price.idx  cons.conf.idx  euribor3m  \\\n0      nonexistent          1.1          93.994          -36.4      4.857   \n1      nonexistent          1.1          93.994          -36.4      4.857   \n2      nonexistent          1.1          93.994          -36.4      4.857   \n3      nonexistent          1.1          93.994          -36.4      4.857   \n4      nonexistent          1.1          93.994          -36.4      4.857   \n...            ...          ...             ...            ...        ...   \n41183  nonexistent         -1.1          94.767          -50.8      1.028   \n41184  nonexistent         -1.1          94.767          -50.8      1.028   \n41185  nonexistent         -1.1          94.767          -50.8      1.028   \n41186  nonexistent         -1.1          94.767          -50.8      1.028   \n41187      failure         -1.1          94.767          -50.8      1.028   \n\n       nr.employed    y  \n0           5191.0   no  \n1           5191.0   no  \n2           5191.0   no  \n3           5191.0   no  \n4           5191.0   no  \n...            ...  ...  \n41183       4963.6  yes  \n41184       4963.6   no  \n41185       4963.6   no  \n41186       4963.6  yes  \n41187       4963.6   no  \n\n[41188 rows x 21 columns]' as a data type"
                    ]
                }
            ],
            "source": [
                "np.dtype(df_bank)"
            ]
        },
        {
            "cell_type": "code",
            "execution_count": 25,
            "metadata": {},
            "outputs": [
                {
                    "ename": "ValueError",
                    "evalue": "boxplot method requires numerical columns, nothing to plot.",
                    "output_type": "error",
                    "traceback": [
                        "\u001b[0;31m---------------------------------------------------------------------------\u001b[0m",
                        "\u001b[0;31mValueError\u001b[0m                                Traceback (most recent call last)",
                        "\u001b[1;32m/workspace/Logistic-Regression-Project-Tutorial/src/explore.ipynb Cell 48\u001b[0m in \u001b[0;36m<cell line: 4>\u001b[0;34m()\u001b[0m\n\u001b[1;32m      <a href='vscode-notebook-cell://rominagonel-logisticreg-l48matryggd.ws-us53.gitpod.io/workspace/Logistic-Regression-Project-Tutorial/src/explore.ipynb#ch0000047vscode-remote?line=2'>3</a>\u001b[0m axs \u001b[39m=\u001b[39m ax\u001b[39m.\u001b[39mflatten()\n\u001b[1;32m      <a href='vscode-notebook-cell://rominagonel-logisticreg-l48matryggd.ws-us53.gitpod.io/workspace/Logistic-Regression-Project-Tutorial/src/explore.ipynb#ch0000047vscode-remote?line=3'>4</a>\u001b[0m \u001b[39mfor\u001b[39;00m i \u001b[39min\u001b[39;00m \u001b[39mrange\u001b[39m(\u001b[39m9\u001b[39m):\n\u001b[0;32m----> <a href='vscode-notebook-cell://rominagonel-logisticreg-l48matryggd.ws-us53.gitpod.io/workspace/Logistic-Regression-Project-Tutorial/src/explore.ipynb#ch0000047vscode-remote?line=4'>5</a>\u001b[0m     df_bank\u001b[39m.\u001b[39;49miloc[:, i]\u001b[39m.\u001b[39;49mto_frame()\u001b[39m.\u001b[39;49mboxplot(ax\u001b[39m=\u001b[39;49maxs[i])\n\u001b[1;32m      <a href='vscode-notebook-cell://rominagonel-logisticreg-l48matryggd.ws-us53.gitpod.io/workspace/Logistic-Regression-Project-Tutorial/src/explore.ipynb#ch0000047vscode-remote?line=5'>6</a>\u001b[0m plt\u001b[39m.\u001b[39msuptitle(\u001b[39m\"\u001b[39m\u001b[39mBoxPlot\u001b[39m\u001b[39m\"\u001b[39m)\n\u001b[1;32m      <a href='vscode-notebook-cell://rominagonel-logisticreg-l48matryggd.ws-us53.gitpod.io/workspace/Logistic-Regression-Project-Tutorial/src/explore.ipynb#ch0000047vscode-remote?line=6'>7</a>\u001b[0m plt\u001b[39m.\u001b[39mshow()\n",
                        "File \u001b[0;32m~/.pyenv/versions/3.8.13/lib/python3.8/site-packages/pandas/plotting/_core.py:511\u001b[0m, in \u001b[0;36mboxplot_frame\u001b[0;34m(self, column, by, ax, fontsize, rot, grid, figsize, layout, return_type, backend, **kwargs)\u001b[0m\n\u001b[1;32m    494\u001b[0m \u001b[39m@Substitution\u001b[39m(backend\u001b[39m=\u001b[39m_backend_doc)\n\u001b[1;32m    495\u001b[0m \u001b[39m@Appender\u001b[39m(_boxplot_doc)\n\u001b[1;32m    496\u001b[0m \u001b[39mdef\u001b[39;00m \u001b[39mboxplot_frame\u001b[39m(\n\u001b[0;32m   (...)\u001b[0m\n\u001b[1;32m    508\u001b[0m     \u001b[39m*\u001b[39m\u001b[39m*\u001b[39mkwargs,\n\u001b[1;32m    509\u001b[0m ):\n\u001b[1;32m    510\u001b[0m     plot_backend \u001b[39m=\u001b[39m _get_plot_backend(backend)\n\u001b[0;32m--> 511\u001b[0m     \u001b[39mreturn\u001b[39;00m plot_backend\u001b[39m.\u001b[39;49mboxplot_frame(\n\u001b[1;32m    512\u001b[0m         \u001b[39mself\u001b[39;49m,\n\u001b[1;32m    513\u001b[0m         column\u001b[39m=\u001b[39;49mcolumn,\n\u001b[1;32m    514\u001b[0m         by\u001b[39m=\u001b[39;49mby,\n\u001b[1;32m    515\u001b[0m         ax\u001b[39m=\u001b[39;49max,\n\u001b[1;32m    516\u001b[0m         fontsize\u001b[39m=\u001b[39;49mfontsize,\n\u001b[1;32m    517\u001b[0m         rot\u001b[39m=\u001b[39;49mrot,\n\u001b[1;32m    518\u001b[0m         grid\u001b[39m=\u001b[39;49mgrid,\n\u001b[1;32m    519\u001b[0m         figsize\u001b[39m=\u001b[39;49mfigsize,\n\u001b[1;32m    520\u001b[0m         layout\u001b[39m=\u001b[39;49mlayout,\n\u001b[1;32m    521\u001b[0m         return_type\u001b[39m=\u001b[39;49mreturn_type,\n\u001b[1;32m    522\u001b[0m         \u001b[39m*\u001b[39;49m\u001b[39m*\u001b[39;49mkwargs,\n\u001b[1;32m    523\u001b[0m     )\n",
                        "File \u001b[0;32m~/.pyenv/versions/3.8.13/lib/python3.8/site-packages/pandas/plotting/_matplotlib/boxplot.py:425\u001b[0m, in \u001b[0;36mboxplot_frame\u001b[0;34m(self, column, by, ax, fontsize, rot, grid, figsize, layout, return_type, **kwds)\u001b[0m\n\u001b[1;32m    410\u001b[0m \u001b[39mdef\u001b[39;00m \u001b[39mboxplot_frame\u001b[39m(\n\u001b[1;32m    411\u001b[0m     \u001b[39mself\u001b[39m,\n\u001b[1;32m    412\u001b[0m     column\u001b[39m=\u001b[39m\u001b[39mNone\u001b[39;00m,\n\u001b[0;32m   (...)\u001b[0m\n\u001b[1;32m    421\u001b[0m     \u001b[39m*\u001b[39m\u001b[39m*\u001b[39mkwds,\n\u001b[1;32m    422\u001b[0m ):\n\u001b[1;32m    423\u001b[0m     \u001b[39mimport\u001b[39;00m \u001b[39mmatplotlib\u001b[39;00m\u001b[39m.\u001b[39;00m\u001b[39mpyplot\u001b[39;00m \u001b[39mas\u001b[39;00m \u001b[39mplt\u001b[39;00m\n\u001b[0;32m--> 425\u001b[0m     ax \u001b[39m=\u001b[39m boxplot(\n\u001b[1;32m    426\u001b[0m         \u001b[39mself\u001b[39;49m,\n\u001b[1;32m    427\u001b[0m         column\u001b[39m=\u001b[39;49mcolumn,\n\u001b[1;32m    428\u001b[0m         by\u001b[39m=\u001b[39;49mby,\n\u001b[1;32m    429\u001b[0m         ax\u001b[39m=\u001b[39;49max,\n\u001b[1;32m    430\u001b[0m         fontsize\u001b[39m=\u001b[39;49mfontsize,\n\u001b[1;32m    431\u001b[0m         grid\u001b[39m=\u001b[39;49mgrid,\n\u001b[1;32m    432\u001b[0m         rot\u001b[39m=\u001b[39;49mrot,\n\u001b[1;32m    433\u001b[0m         figsize\u001b[39m=\u001b[39;49mfigsize,\n\u001b[1;32m    434\u001b[0m         layout\u001b[39m=\u001b[39;49mlayout,\n\u001b[1;32m    435\u001b[0m         return_type\u001b[39m=\u001b[39;49mreturn_type,\n\u001b[1;32m    436\u001b[0m         \u001b[39m*\u001b[39;49m\u001b[39m*\u001b[39;49mkwds,\n\u001b[1;32m    437\u001b[0m     )\n\u001b[1;32m    438\u001b[0m     plt\u001b[39m.\u001b[39mdraw_if_interactive()\n\u001b[1;32m    439\u001b[0m     \u001b[39mreturn\u001b[39;00m ax\n",
                        "File \u001b[0;32m~/.pyenv/versions/3.8.13/lib/python3.8/site-packages/pandas/plotting/_matplotlib/boxplot.py:396\u001b[0m, in \u001b[0;36mboxplot\u001b[0;34m(data, column, by, ax, fontsize, rot, grid, figsize, layout, return_type, **kwds)\u001b[0m\n\u001b[1;32m    394\u001b[0m naxes \u001b[39m=\u001b[39m \u001b[39mlen\u001b[39m(data\u001b[39m.\u001b[39mcolumns)\n\u001b[1;32m    395\u001b[0m \u001b[39mif\u001b[39;00m naxes \u001b[39m==\u001b[39m \u001b[39m0\u001b[39m:\n\u001b[0;32m--> 396\u001b[0m     \u001b[39mraise\u001b[39;00m \u001b[39mValueError\u001b[39;00m(\n\u001b[1;32m    397\u001b[0m         \u001b[39m\"\u001b[39m\u001b[39mboxplot method requires numerical columns, nothing to plot.\u001b[39m\u001b[39m\"\u001b[39m\n\u001b[1;32m    398\u001b[0m     )\n\u001b[1;32m    399\u001b[0m \u001b[39mif\u001b[39;00m columns \u001b[39mis\u001b[39;00m \u001b[39mNone\u001b[39;00m:\n\u001b[1;32m    400\u001b[0m     columns \u001b[39m=\u001b[39m data\u001b[39m.\u001b[39mcolumns\n",
                        "\u001b[0;31mValueError\u001b[0m: boxplot method requires numerical columns, nothing to plot."
                    ]
                },
                {
                    "data": {
                        "image/png": "[encoded data removed]",
                        "text/plain": [
                            "<Figure size 720x720 with 10 Axes>"
                        ]
                    },
                    "metadata": {
                        "needs_background": "light"
                    },
                    "output_type": "display_data"
                }
            ],
            "source": [
                "# boxplot\n",
                "fig, ax = plt.subplots(5, 2, figsize=(10, 10))\n",
                "axs = ax.flatten()\n",
                "for i in range(9):\n",
                "    df_bank.iloc[:, i].to_frame().boxplot(ax=axs[i])\n",
                "plt.suptitle(\"BoxPlot\")\n",
                "plt.show()"
            ]
        },
        {
            "cell_type": "code",
            "execution_count": 9,
            "metadata": {},
            "outputs": [],
            "source": [
                "X = df_raw.drop(columns = ['y'])"
            ]
        },
        {
            "cell_type": "code",
            "execution_count": 10,
            "metadata": {},
            "outputs": [],
            "source": [
                "y = df_raw['y']"
            ]
        },
        {
            "cell_type": "code",
            "execution_count": null,
            "metadata": {},
            "outputs": [],
            "source": [
                "X.select_dtypes(include = ['int', 'float']).columns"
            ]
        }
    ],
    "metadata": {
        "kernelspec": {
            "display_name": "Python 3.8.13 64-bit ('3.8.13')",
            "language": "python",
            "name": "python3"
        },
        "language_info": {
            "codemirror_mode": {
                "name": "ipython",
                "version": 3
            },
            "file_extension": ".py",
            "mimetype": "text/x-python",
            "name": "python",
            "nbconvert_exporter": "python",
            "pygments_lexer": "ipython3",
            "version": "3.8.13"
        },
        "orig_nbformat": 4,
        "vscode": {
            "interpreter": {
                "hash": "110cc1dee26208153f2972f08a2ad52b6a56238dc66d48e87fb757ef2996db56"
            }
        }
    },
    "nbformat": 4,
    "nbformat_minor": 2
}
